{
  "nbformat": 4,
  "nbformat_minor": 0,
  "metadata": {
    "colab": {
      "provenance": [],
      "authorship_tag": "ABX9TyNLr4Zdk+CCWx1JcHHfFnt4"
    },
    "kernelspec": {
      "name": "python3",
      "display_name": "Python 3"
    },
    "language_info": {
      "name": "python"
    }
  },
  "cells": [
    {
      "cell_type": "code",
      "execution_count": null,
      "metadata": {
        "id": "hoIdhfp26CHq"
      },
      "outputs": [],
      "source": [
        "# Strip the header of raw files\n",
        "\n",
        "from google.colab import files\n",
        "import os\n",
        "from datetime import datetime\n",
        "from google.colab import drive\n",
        "import shutil\n",
        "\n",
        "def strip_header(file_path):\n",
        "    with open(file_path, 'r') as file:\n",
        "        lines = file.readlines()\n",
        "\n",
        "    modified_lines = lines[1:]  # Exclude the first line\n",
        "\n",
        "    modified_content = ''.join(modified_lines)\n",
        "    modified_file_path = os.path.splitext(file_path)[0] + '_stripped.txt'\n",
        "\n",
        "    with open(modified_file_path, 'w') as modified_file:\n",
        "        modified_file.write(modified_content)\n",
        "\n",
        "    print(f'Stripped header and saved the modified file as: {modified_file_path}')\n",
        "\n",
        "# Upload multiple files\n",
        "uploaded_files = files.upload()\n",
        "\n",
        "for file_name, file_content in uploaded_files.items():\n",
        "    # Save the uploaded file\n",
        "    with open(file_name, 'wb') as file:\n",
        "        file.write(file_content)\n",
        "\n",
        "    # Strip the header from the uploaded file\n",
        "    strip_header(file_name)\n",
        "\n",
        "    # Move the modified file to the specified Google Drive folder\n",
        "    drive.mount('/content/drive')\n",
        "\n",
        "    # Create a new folder with the current date in \"My Drive/Colab Notebooks\"\n",
        "    base_folder = '/content/drive/My Drive/Colab Notebooks'\n",
        "    current_date = datetime.now().strftime('%Y-%m-%d')\n",
        "    folder_path = os.path.join(base_folder, current_date)\n",
        "    os.makedirs(folder_path, exist_ok=True)\n",
        "\n",
        "    # Move the modified file to the created folder\n",
        "    modified_file_path = os.path.splitext(file_name)[0] + '_stripped.txt'\n",
        "    new_file_path = os.path.join(folder_path, os.path.basename(modified_file_path))\n",
        "    shutil.move(modified_file_path, new_file_path)\n",
        "\n",
        "    print(f'Moved the modified file to: {new_file_path}')"
      ]
    },
    {
      "cell_type": "code",
      "source": [],
      "metadata": {
        "id": "4bu-o3oC94cb"
      },
      "execution_count": null,
      "outputs": []
    }
  ]
}